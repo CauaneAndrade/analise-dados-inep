{
 "cells": [
  {
   "cell_type": "code",
   "execution_count": null,
   "metadata": {},
   "outputs": [],
   "source": [
    "'''\n",
    "# Dicionário de dados de docentes\n",
    "– Categoria Administrativa\n",
    "A) Pública Federal: DM_DOCENTE.TP_CATEGORIA_ADMINISTRATIVA = 1\n",
    "B) Pública Estadual: DM_DOCENTE.TP_CATEGORIA_ADMINISTRATIVA = 2\n",
    "C) Pública Municipal: DM_DOCENTE.TP_CATEGORIA_ADMINISTRATIVA = 3\n",
    "D) Privadas: DM_DOCENTE.TP_CATEGORIA_ADMINISTRATIVA IN (4,5)\n",
    "E) Especial: DM_DOCENTE.TP_CATEGORIA_ADMINISTRATIVA = 7\n",
    "Para a Sinopse, a Categoria Administrativa Especial foi somada com a Municipal.\n",
    "\n",
    "– Organização Acadêmica\n",
    "A) Universidade: DM_DOCENTE.TP_ORGANIZACAO_ACADEMICA = 1\n",
    "B) Centro Universitário: DM_DOCENTE.TP_ORGANIZACAO_ACADEMICA = 2\n",
    "C) Faculdade: DM_DOCENTE.TP_ORGANIZACAO_ACADEMICA = 3\n",
    "D) Instituto Federal: DM_DOCENTE.TP_ORGANIZACAO_ACADEMICA IN (4,5)\n",
    "Para a Sinopse, as Organizações Acadêmicas Instituto Federal de Educação, Ciência e Tecnologia e Centro Federal de\n",
    "Educação Tecnológica foram agregadas.\n",
    "\n",
    "– Grau de Escolaridade do Docente\n",
    "A) Sem Graduação: DM_DOCENTE.TP_ESCOLARIDADE_DOCENTE = 1\n",
    "B) Graduação: DM_DOCENTE.TP_ESCOLARIDADE_DOCENTE = 2\n",
    "C) Especialização: DM_DOCENTE.TP_ESCOLARIDADE_DOCENTE = 3\n",
    "D) Mestrado: DM_DOCENTE.TP_ESCOLARIDADE_DOCENTE = 4\n",
    "E) Doutorado: DM_DOCENTE.TP_ESCOLARIDADE_DOCENTE = 5\n",
    "\n",
    "– Regime de Trabalho do Docente\n",
    "A) Tempo Integral com dedicação exclusiva: DM_DOCENTE.TP_REGIME_TRABALHO = 1\n",
    "B) Tempo Integral sem dedicação exclusiva: DM_DOCENTE.TP_REGIME_TRABALHO = 2\n",
    "C) Tempo Parcial: DM_DOCENTE.TP_REGIME_TRABALHO = 3\n",
    "D) Horista: DM_DOCENTE.TP_REGIME_TRABALHO = 4\n",
    "\n",
    "– Sexo do Docente\n",
    "A) Feminino: DM_DOCENTE.TP_SEXO= 1\n",
    "B) Masculino: DM_DOCENTE.TP_SEXO= 2\n",
    "\n",
    "– Cor/Raça do Docente\n",
    "A) Branca: DM_DOCENTE.TP_COR_RACA= 1\n",
    "B) Preta: DM_DOCENTE.TP_COR_RACA= 2\n",
    "C) Parda: DM_DOCENTE.TP_COR_RACA= 3\n",
    "D) Amarela: DM_DOCENTE.TP_COR_RACA= 4\n",
    "E) Indígena: DM_DOCENTE.TP_COR_RACA= 5\n",
    "F) Não dispõe da informação: DM_DOCENTE.TP_COR_RACA= 9\n",
    "G) Docente não quis declarar cor/raça: DM_DOCENTE.TP_COR_RACA= 0\n",
    "'''"
   ]
  },
  {
   "cell_type": "code",
   "execution_count": 3,
   "metadata": {},
   "outputs": [],
   "source": [
    "import pandas as pd\n",
    "low_memory=False\n",
    "pd.options.display.max_columns = 80\n",
    "pd.options.display.max_rows = 90\n",
    "\n",
    "import matplotlib.pyplot as plt"
   ]
  },
  {
   "cell_type": "code",
   "execution_count": 4,
   "metadata": {},
   "outputs": [],
   "source": [
    "df = pd.read_csv('microdados_ed_superior_2018/dados/DM_DOCENTE.CSV', delimiter = '|', encoding='iso-8859-1', usecols=[\n",
    "    'NU_ANO_CENSO',\n",
    "    'TP_SEXO',\n",
    "    'TP_CATEGORIA_ADMINISTRATIVA',\n",
    "    'TP_ORGANIZACAO_ACADEMICA',\n",
    "    'TP_ESCOLARIDADE',\n",
    "    'TP_SITUACAO',\n",
    "    'NU_ANO_NASCIMENTO',\n",
    "    'TP_COR_RACA',\n",
    "    'TP_NACIONALIDADE',\n",
    "])"
   ]
  },
  {
   "cell_type": "code",
   "execution_count": 5,
   "metadata": {},
   "outputs": [
    {
     "data": {
      "text/html": [
       "<div>\n",
       "<style scoped>\n",
       "    .dataframe tbody tr th:only-of-type {\n",
       "        vertical-align: middle;\n",
       "    }\n",
       "\n",
       "    .dataframe tbody tr th {\n",
       "        vertical-align: top;\n",
       "    }\n",
       "\n",
       "    .dataframe thead th {\n",
       "        text-align: right;\n",
       "    }\n",
       "</style>\n",
       "<table border=\"1\" class=\"dataframe\">\n",
       "  <thead>\n",
       "    <tr style=\"text-align: right;\">\n",
       "      <th></th>\n",
       "      <th>NU_ANO_CENSO</th>\n",
       "      <th>TP_CATEGORIA_ADMINISTRATIVA</th>\n",
       "      <th>TP_ORGANIZACAO_ACADEMICA</th>\n",
       "      <th>TP_SITUACAO</th>\n",
       "      <th>TP_ESCOLARIDADE</th>\n",
       "      <th>TP_SEXO</th>\n",
       "      <th>NU_ANO_NASCIMENTO</th>\n",
       "      <th>TP_COR_RACA</th>\n",
       "      <th>TP_NACIONALIDADE</th>\n",
       "    </tr>\n",
       "  </thead>\n",
       "  <tbody>\n",
       "    <tr>\n",
       "      <td>0</td>\n",
       "      <td>2018</td>\n",
       "      <td>1</td>\n",
       "      <td>1</td>\n",
       "      <td>1</td>\n",
       "      <td>5</td>\n",
       "      <td>2</td>\n",
       "      <td>1957</td>\n",
       "      <td>3</td>\n",
       "      <td>1</td>\n",
       "    </tr>\n",
       "    <tr>\n",
       "      <td>1</td>\n",
       "      <td>2018</td>\n",
       "      <td>1</td>\n",
       "      <td>1</td>\n",
       "      <td>1</td>\n",
       "      <td>5</td>\n",
       "      <td>2</td>\n",
       "      <td>1952</td>\n",
       "      <td>3</td>\n",
       "      <td>1</td>\n",
       "    </tr>\n",
       "    <tr>\n",
       "      <td>2</td>\n",
       "      <td>2018</td>\n",
       "      <td>1</td>\n",
       "      <td>1</td>\n",
       "      <td>1</td>\n",
       "      <td>4</td>\n",
       "      <td>2</td>\n",
       "      <td>1969</td>\n",
       "      <td>3</td>\n",
       "      <td>1</td>\n",
       "    </tr>\n",
       "    <tr>\n",
       "      <td>3</td>\n",
       "      <td>2018</td>\n",
       "      <td>1</td>\n",
       "      <td>1</td>\n",
       "      <td>1</td>\n",
       "      <td>3</td>\n",
       "      <td>2</td>\n",
       "      <td>1955</td>\n",
       "      <td>4</td>\n",
       "      <td>1</td>\n",
       "    </tr>\n",
       "    <tr>\n",
       "      <td>4</td>\n",
       "      <td>2018</td>\n",
       "      <td>1</td>\n",
       "      <td>1</td>\n",
       "      <td>1</td>\n",
       "      <td>5</td>\n",
       "      <td>2</td>\n",
       "      <td>1965</td>\n",
       "      <td>1</td>\n",
       "      <td>1</td>\n",
       "    </tr>\n",
       "    <tr>\n",
       "      <td>...</td>\n",
       "      <td>...</td>\n",
       "      <td>...</td>\n",
       "      <td>...</td>\n",
       "      <td>...</td>\n",
       "      <td>...</td>\n",
       "      <td>...</td>\n",
       "      <td>...</td>\n",
       "      <td>...</td>\n",
       "      <td>...</td>\n",
       "    </tr>\n",
       "    <tr>\n",
       "      <td>397888</td>\n",
       "      <td>2018</td>\n",
       "      <td>2</td>\n",
       "      <td>3</td>\n",
       "      <td>1</td>\n",
       "      <td>4</td>\n",
       "      <td>2</td>\n",
       "      <td>1973</td>\n",
       "      <td>0</td>\n",
       "      <td>1</td>\n",
       "    </tr>\n",
       "    <tr>\n",
       "      <td>397889</td>\n",
       "      <td>2018</td>\n",
       "      <td>2</td>\n",
       "      <td>3</td>\n",
       "      <td>1</td>\n",
       "      <td>5</td>\n",
       "      <td>1</td>\n",
       "      <td>1979</td>\n",
       "      <td>1</td>\n",
       "      <td>1</td>\n",
       "    </tr>\n",
       "    <tr>\n",
       "      <td>397890</td>\n",
       "      <td>2018</td>\n",
       "      <td>2</td>\n",
       "      <td>3</td>\n",
       "      <td>1</td>\n",
       "      <td>5</td>\n",
       "      <td>1</td>\n",
       "      <td>1965</td>\n",
       "      <td>1</td>\n",
       "      <td>1</td>\n",
       "    </tr>\n",
       "    <tr>\n",
       "      <td>397891</td>\n",
       "      <td>2018</td>\n",
       "      <td>2</td>\n",
       "      <td>3</td>\n",
       "      <td>1</td>\n",
       "      <td>5</td>\n",
       "      <td>2</td>\n",
       "      <td>1955</td>\n",
       "      <td>0</td>\n",
       "      <td>1</td>\n",
       "    </tr>\n",
       "    <tr>\n",
       "      <td>397892</td>\n",
       "      <td>2018</td>\n",
       "      <td>2</td>\n",
       "      <td>3</td>\n",
       "      <td>1</td>\n",
       "      <td>4</td>\n",
       "      <td>2</td>\n",
       "      <td>1969</td>\n",
       "      <td>0</td>\n",
       "      <td>1</td>\n",
       "    </tr>\n",
       "  </tbody>\n",
       "</table>\n",
       "<p>397893 rows × 9 columns</p>\n",
       "</div>"
      ],
      "text/plain": [
       "        NU_ANO_CENSO  TP_CATEGORIA_ADMINISTRATIVA  TP_ORGANIZACAO_ACADEMICA  \\\n",
       "0               2018                            1                         1   \n",
       "1               2018                            1                         1   \n",
       "2               2018                            1                         1   \n",
       "3               2018                            1                         1   \n",
       "4               2018                            1                         1   \n",
       "...              ...                          ...                       ...   \n",
       "397888          2018                            2                         3   \n",
       "397889          2018                            2                         3   \n",
       "397890          2018                            2                         3   \n",
       "397891          2018                            2                         3   \n",
       "397892          2018                            2                         3   \n",
       "\n",
       "        TP_SITUACAO  TP_ESCOLARIDADE  TP_SEXO  NU_ANO_NASCIMENTO  TP_COR_RACA  \\\n",
       "0                 1                5        2               1957            3   \n",
       "1                 1                5        2               1952            3   \n",
       "2                 1                4        2               1969            3   \n",
       "3                 1                3        2               1955            4   \n",
       "4                 1                5        2               1965            1   \n",
       "...             ...              ...      ...                ...          ...   \n",
       "397888            1                4        2               1973            0   \n",
       "397889            1                5        1               1979            1   \n",
       "397890            1                5        1               1965            1   \n",
       "397891            1                5        2               1955            0   \n",
       "397892            1                4        2               1969            0   \n",
       "\n",
       "        TP_NACIONALIDADE  \n",
       "0                      1  \n",
       "1                      1  \n",
       "2                      1  \n",
       "3                      1  \n",
       "4                      1  \n",
       "...                  ...  \n",
       "397888                 1  \n",
       "397889                 1  \n",
       "397890                 1  \n",
       "397891                 1  \n",
       "397892                 1  \n",
       "\n",
       "[397893 rows x 9 columns]"
      ]
     },
     "execution_count": 5,
     "metadata": {},
     "output_type": "execute_result"
    }
   ],
   "source": [
    "df"
   ]
  },
  {
   "cell_type": "code",
   "execution_count": 233,
   "metadata": {},
   "outputs": [
    {
     "data": {
      "text/plain": [
       "NU_ANO_CENSO                   397893\n",
       "TP_CATEGORIA_ADMINISTRATIVA    397893\n",
       "TP_ORGANIZACAO_ACADEMICA       397893\n",
       "TP_SITUACAO                    397893\n",
       "TP_ESCOLARIDADE                397893\n",
       "TP_SEXO                        397893\n",
       "NU_ANO_NASCIMENTO              397893\n",
       "TP_COR_RACA                    397893\n",
       "TP_NACIONALIDADE               397893\n",
       "dtype: int64"
      ]
     },
     "execution_count": 233,
     "metadata": {},
     "output_type": "execute_result"
    }
   ],
   "source": [
    "df.count()  # quantidade total de docentes"
   ]
  },
  {
   "cell_type": "code",
   "execution_count": 234,
   "metadata": {},
   "outputs": [
    {
     "data": {
      "text/plain": [
       "NU_ANO_CENSO                   65249\n",
       "TP_CATEGORIA_ADMINISTRATIVA    65249\n",
       "TP_ORGANIZACAO_ACADEMICA       65249\n",
       "TP_SITUACAO                    65249\n",
       "TP_ESCOLARIDADE                65249\n",
       "TP_SEXO                        65249\n",
       "NU_ANO_NASCIMENTO              65249\n",
       "TP_COR_RACA                    65249\n",
       "TP_NACIONALIDADE               65249\n",
       "dtype: int64"
      ]
     },
     "execution_count": 234,
     "metadata": {},
     "output_type": "execute_result"
    }
   ],
   "source": [
    "df.query('TP_COR_RACA == 2 or TP_COR_RACA == 3').count()  # quantidade de docentes pretos (2) ou pardos (3)"
   ]
  },
  {
   "cell_type": "code",
   "execution_count": 235,
   "metadata": {},
   "outputs": [
    {
     "data": {
      "text/plain": [
       "NU_ANO_CENSO                   210430\n",
       "TP_CATEGORIA_ADMINISTRATIVA    210430\n",
       "TP_ORGANIZACAO_ACADEMICA       210430\n",
       "TP_SITUACAO                    210430\n",
       "TP_ESCOLARIDADE                210430\n",
       "TP_SEXO                        210430\n",
       "NU_ANO_NASCIMENTO              210430\n",
       "TP_COR_RACA                    210430\n",
       "TP_NACIONALIDADE               210430\n",
       "dtype: int64"
      ]
     },
     "execution_count": 235,
     "metadata": {},
     "output_type": "execute_result"
    }
   ],
   "source": [
    "df.query('TP_COR_RACA == 1').count()  # quantidade de docentes brancos (1)"
   ]
  },
  {
   "cell_type": "code",
   "execution_count": 236,
   "metadata": {},
   "outputs": [
    {
     "data": {
      "text/plain": [
       "NU_ANO_CENSO                   184079\n",
       "TP_CATEGORIA_ADMINISTRATIVA    184079\n",
       "TP_ORGANIZACAO_ACADEMICA       184079\n",
       "TP_SITUACAO                    184079\n",
       "TP_ESCOLARIDADE                184079\n",
       "TP_SEXO                        184079\n",
       "NU_ANO_NASCIMENTO              184079\n",
       "TP_COR_RACA                    184079\n",
       "TP_NACIONALIDADE               184079\n",
       "dtype: int64"
      ]
     },
     "execution_count": 236,
     "metadata": {},
     "output_type": "execute_result"
    }
   ],
   "source": [
    "df.query('TP_SEXO == 1').count()  # quantidade de docentes do sexo feminino (1)"
   ]
  },
  {
   "cell_type": "code",
   "execution_count": 237,
   "metadata": {},
   "outputs": [
    {
     "data": {
      "text/plain": [
       "NU_ANO_CENSO                   213814\n",
       "TP_CATEGORIA_ADMINISTRATIVA    213814\n",
       "TP_ORGANIZACAO_ACADEMICA       213814\n",
       "TP_SITUACAO                    213814\n",
       "TP_ESCOLARIDADE                213814\n",
       "TP_SEXO                        213814\n",
       "NU_ANO_NASCIMENTO              213814\n",
       "TP_COR_RACA                    213814\n",
       "TP_NACIONALIDADE               213814\n",
       "dtype: int64"
      ]
     },
     "execution_count": 237,
     "metadata": {},
     "output_type": "execute_result"
    }
   ],
   "source": [
    "df.query('TP_SEXO == 2').count()  # quantidade de docentes do sexo masculino (2)"
   ]
  },
  {
   "cell_type": "code",
   "execution_count": 238,
   "metadata": {},
   "outputs": [
    {
     "data": {
      "text/plain": [
       "NU_ANO_CENSO                   86149\n",
       "TP_CATEGORIA_ADMINISTRATIVA    86149\n",
       "TP_ORGANIZACAO_ACADEMICA       86149\n",
       "TP_SITUACAO                    86149\n",
       "TP_ESCOLARIDADE                86149\n",
       "TP_SEXO                        86149\n",
       "NU_ANO_NASCIMENTO              86149\n",
       "TP_COR_RACA                    86149\n",
       "TP_NACIONALIDADE               86149\n",
       "dtype: int64"
      ]
     },
     "execution_count": 238,
     "metadata": {},
     "output_type": "execute_result"
    }
   ],
   "source": [
    "# quantidade de docentes da cor/raça branca (1) e que são doutores (5)\n",
    "df.query('TP_COR_RACA == 1 and TP_ESCOLARIDADE == 5').count()"
   ]
  },
  {
   "cell_type": "code",
   "execution_count": 239,
   "metadata": {},
   "outputs": [
    {
     "data": {
      "text/plain": [
       "NU_ANO_CENSO                   25577\n",
       "TP_CATEGORIA_ADMINISTRATIVA    25577\n",
       "TP_ORGANIZACAO_ACADEMICA       25577\n",
       "TP_SITUACAO                    25577\n",
       "TP_ESCOLARIDADE                25577\n",
       "TP_SEXO                        25577\n",
       "NU_ANO_NASCIMENTO              25577\n",
       "TP_COR_RACA                    25577\n",
       "TP_NACIONALIDADE               25577\n",
       "dtype: int64"
      ]
     },
     "execution_count": 239,
     "metadata": {},
     "output_type": "execute_result"
    }
   ],
   "source": [
    "# quantidade de docentes da cor/raça preta (2) ou parda (3) e que são doutores (5)\n",
    "df.query('TP_COR_RACA == 2 or TP_COR_RACA == 3 and TP_ESCOLARIDADE == 5').count()"
   ]
  },
  {
   "cell_type": "code",
   "execution_count": 240,
   "metadata": {},
   "outputs": [
    {
     "data": {
      "image/png": "[encoded data removed]",
      "text/plain": [
       "<Figure size 432x288 with 1 Axes>"
      ]
     },
     "metadata": {
      "needs_background": "light"
     },
     "output_type": "display_data"
    }
   ],
   "source": [
    "plt.suptitle(\"Quantidade de docentes por cor/raça\")\n",
    "names = ['Total', 'Pretos ou pardos', 'Brancos']\n",
    "values = [\n",
    "    df['TP_COR_RACA'].count(),\n",
    "    df.query('TP_COR_RACA == 2 or TP_COR_RACA == 3').count()[0],\n",
    "    df.query('TP_COR_RACA == 1').count()[0]\n",
    "]\n",
    "plt.bar(names, values)\n",
    "plt.show()"
   ]
  },
  {
   "cell_type": "code",
   "execution_count": 175,
   "metadata": {},
   "outputs": [
    {
     "data": {
      "image/png": "[encoded data removed]",
      "text/plain": [
       "<Figure size 432x288 with 1 Axes>"
      ]
     },
     "metadata": {
      "needs_background": "light"
     },
     "output_type": "display_data"
    }
   ],
   "source": [
    "plt.suptitle(\"Quantidade de docentes por gênero\")\n",
    "names = ['Total', 'Feminino', 'Masculino']\n",
    "values = [\n",
    "    df['TP_SEXO'].count(),\n",
    "    df.query('TP_SEXO == 1').count()[0],\n",
    "    df.query('TP_SEXO == 2').count()[0]\n",
    "]\n",
    "plt.bar(names, values)\n",
    "plt.show()"
   ]
  },
  {
   "cell_type": "code",
   "execution_count": 177,
   "metadata": {
    "scrolled": true
   },
   "outputs": [
    {
     "data": {
      "image/png": "[encoded data removed]",
      "text/plain": [
       "<Figure size 432x288 with 1 Axes>"
      ]
     },
     "metadata": {
      "needs_background": "light"
     },
     "output_type": "display_data"
    }
   ],
   "source": [
    "plt.suptitle(\"Quantidade de docentes do gênero feminino e que se denominam negras, pardas ou brancas\")\n",
    "names = ['Total', 'Negras/pardas', 'Brancas']\n",
    "values = [\n",
    "    df.query('TP_SEXO == 1').count()[0],\n",
    "    df.query('TP_SEXO == 1 and TP_COR_RACA == 2 or TP_COR_RACA == 3').count()[0],\n",
    "    df.query('TP_SEXO == 1 and TP_COR_RACA == 1').count()[0]\n",
    "]\n",
    "plt.bar(names, values)\n",
    "plt.show()"
   ]
  },
  {
   "cell_type": "code",
   "execution_count": 178,
   "metadata": {},
   "outputs": [
    {
     "data": {
      "image/png": "[encoded data removed]",
      "text/plain": [
       "<Figure size 432x288 with 1 Axes>"
      ]
     },
     "metadata": {
      "needs_background": "light"
     },
     "output_type": "display_data"
    }
   ],
   "source": [
    "plt.suptitle(\"Quantidade de docentes do gênero masculino e que se denominam negros, pardos ou brancos\")\n",
    "names = ['Total', 'Negros/pardos', 'Brancos']\n",
    "values = [\n",
    "    df.query('TP_SEXO == 2').count()[0],\n",
    "    df.query('TP_SEXO == 2 and TP_COR_RACA == 2 or TP_COR_RACA == 3').count()[0],\n",
    "    df.query('TP_SEXO == 2 and TP_COR_RACA == 1').count()[0]\n",
    "]\n",
    "plt.bar(names, values)\n",
    "plt.show()"
   ]
  },
  {
   "cell_type": "code",
   "execution_count": null,
   "metadata": {},
   "outputs": [],
   "source": [
    "'''\n",
    "Grau de Escolaridade do Docente\n",
    "A) Sem Graduação: DM_DOCENTE.TP_ESCOLARIDADE = 1\n",
    "B) Graduação: DM_DOCENTE.TP_ESCOLARIDADE = 2\n",
    "C) Especialização: DM_DOCENTE.TP_ESCOLARIDADE = 3\n",
    "D) Mestrado: DM_DOCENTE.TP_ESCOLARIDADE = 4\n",
    "E) Doutorado: DM_DOCENTE.TP_ESCOLARIDADE = 5\n",
    "'''"
   ]
  },
  {
   "cell_type": "code",
   "execution_count": 224,
   "metadata": {},
   "outputs": [
    {
     "data": {
      "image/png": "[encoded data removed]",
      "text/plain": [
       "<Figure size 432x288 with 1 Axes>"
      ]
     },
     "metadata": {
      "needs_background": "light"
     },
     "output_type": "display_data"
    }
   ],
   "source": [
    "labels = ['Total', 'Sem Graduação', 'Graduação', 'Especialização', 'Mestrado', 'Doutorado']\n",
    "men_values = [\n",
    "    df.query('TP_SEXO == 1').count()[0],\n",
    "    df.query('TP_SEXO == 1 and TP_ESCOLARIDADE == 1').count()[0],\n",
    "    df.query('TP_SEXO == 1 and TP_ESCOLARIDADE == 2').count()[0],\n",
    "    df.query('TP_SEXO == 1 and TP_ESCOLARIDADE == 3').count()[0],\n",
    "    df.query('TP_SEXO == 1 and TP_ESCOLARIDADE == 4').count()[0],\n",
    "    df.query('TP_SEXO == 1 and TP_ESCOLARIDADE == 5').count()[0]\n",
    "]\n",
    "women_values = [\n",
    "    df.query('TP_SEXO == 2').count()[0],\n",
    "    df.query('TP_SEXO == 2 and TP_ESCOLARIDADE == 1').count()[0],\n",
    "    df.query('TP_SEXO == 2 and TP_ESCOLARIDADE == 2').count()[0],\n",
    "    df.query('TP_SEXO == 2 and TP_ESCOLARIDADE == 3').count()[0],\n",
    "    df.query('TP_SEXO == 2 and TP_ESCOLARIDADE == 4').count()[0],\n",
    "    df.query('TP_SEXO == 2 and TP_ESCOLARIDADE == 5').count()[0]\n",
    "]\n",
    "\n",
    "x = np.arange(len(labels))  # the label locations\n",
    "width = 0.3  # the width of the bars\n",
    "\n",
    "fig, ax = plt.subplots()\n",
    "rects1 = ax.bar(x - width/2, men_values, width, label='Feminino')\n",
    "rects2 = ax.bar(x + width/2, women_values, width, label='Masculino')\n",
    "\n",
    "# Add some text for labels, title and custom x-axis tick labels, etc.\n",
    "ax.set_ylabel('Quantidade  de docentes')\n",
    "ax.set_title(\"Quantidade de docentes por gênero e grau de escolaridade\")\n",
    "ax.set_xticks(x)\n",
    "ax.set_xticklabels(labels)\n",
    "ax.legend()\n",
    "\n",
    "\n",
    "def autolabel(rects):\n",
    "    \"\"\"Attach a text label above each bar in *rects*, displaying its height.\"\"\"\n",
    "    for rect in rects:\n",
    "        height = rect.get_height()\n",
    "        ax.annotate('{}'.format(height),\n",
    "                    xy=(rect.get_x() + rect.get_width() / 2, height),\n",
    "                    xytext=(1, 5),\n",
    "                    textcoords=\"offset points\",\n",
    "                    ha='center', va='bottom')\n",
    "\n",
    "\n",
    "autolabel(rects1)\n",
    "autolabel(rects2)\n",
    "\n",
    "fig.tight_layout()\n",
    "\n",
    "plt.show()"
   ]
  },
  {
   "cell_type": "code",
   "execution_count": 228,
   "metadata": {},
   "outputs": [
    {
     "data": {
      "image/png": "[encoded data removed]",
      "text/plain": [
       "<Figure size 432x288 with 1 Axes>"
      ]
     },
     "metadata": {
      "needs_background": "light"
     },
     "output_type": "display_data"
    }
   ],
   "source": [
    "labels = ['Total', 'Sem Graduação', 'Graduação', 'Especialização', 'Mestrado', 'Doutorado']\n",
    "negros_pardos_values = [\n",
    "    df.query('TP_COR_RACA == 2 or TP_COR_RACA == 3').count()[0],\n",
    "    df.query('TP_COR_RACA == 2 or TP_COR_RACA == 3 and TP_ESCOLARIDADE == 1').count()[0],\n",
    "    df.query('TP_COR_RACA == 2 or TP_COR_RACA == 3 and TP_ESCOLARIDADE == 2').count()[0],\n",
    "    df.query('TP_COR_RACA == 2 or TP_COR_RACA == 3 and TP_ESCOLARIDADE == 3').count()[0],\n",
    "    df.query('TP_COR_RACA == 2 or TP_COR_RACA == 3 and TP_ESCOLARIDADE == 4').count()[0],\n",
    "    df.query('TP_COR_RACA == 2 or TP_COR_RACA == 3 and TP_ESCOLARIDADE == 5').count()[0]\n",
    "]\n",
    "brancos_values = [\n",
    "    df.query('TP_COR_RACA == 1').count()[0],\n",
    "    df.query('TP_COR_RACA == 1 and TP_ESCOLARIDADE == 1').count()[0],\n",
    "    df.query('TP_COR_RACA == 1 and TP_ESCOLARIDADE == 2').count()[0],\n",
    "    df.query('TP_COR_RACA == 1 and TP_ESCOLARIDADE == 3').count()[0],\n",
    "    df.query('TP_COR_RACA == 1 and TP_ESCOLARIDADE == 4').count()[0],\n",
    "    df.query('TP_COR_RACA == 1 and TP_ESCOLARIDADE == 5').count()[0]\n",
    "]\n",
    "\n",
    "x = np.arange(len(labels))  # the label locations\n",
    "width = 0.2  # the width of the bars\n",
    "\n",
    "fig, ax = plt.subplots()\n",
    "rects1 = ax.bar(x - width/2, negros_pardos_values, width, label='Negros/pardos')\n",
    "rects2 = ax.bar(x + width/2, brancos_values, width, label='Brancos')\n",
    "\n",
    "# Add some text for labels, title and custom x-axis tick labels, etc.\n",
    "ax.set_ylabel('Quantidade de docentes')\n",
    "ax.set_title(\"Quantidade de docentes por cor/raça e grau de escolaridade\")\n",
    "ax.set_xticks(x)\n",
    "ax.set_xticklabels(labels)\n",
    "ax.legend()\n",
    "\n",
    "\n",
    "def autolabel(rects):\n",
    "    \"\"\"Attach a text label above each bar in *rects*, displaying its height.\"\"\"\n",
    "    for rect in rects:\n",
    "        height = rect.get_height()\n",
    "        ax.annotate('{}'.format(height),\n",
    "                    xy=(rect.get_x() + rect.get_width() / 2, height),\n",
    "                    xytext=(1, 5),\n",
    "                    textcoords=\"offset points\",\n",
    "                    ha='center', va='bottom')\n",
    "\n",
    "\n",
    "autolabel(rects1)\n",
    "autolabel(rects2)\n",
    "\n",
    "fig.tight_layout()\n",
    "\n",
    "plt.show()"
   ]
  }
 ],
 "metadata": {
  "kernelspec": {
   "display_name": "Python 3",
   "language": "python",
   "name": "python3"
  },
  "language_info": {
   "codemirror_mode": {
    "name": "ipython",
    "version": 3
   },
   "file_extension": ".py",
   "mimetype": "text/x-python",
   "name": "python",
   "nbconvert_exporter": "python",
   "pygments_lexer": "ipython3",
   "version": "3.6.8"
  }
 },
 "nbformat": 4,
 "nbformat_minor": 2
}
