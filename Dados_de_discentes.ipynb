{
 "cells": [
  {
   "cell_type": "code",
   "execution_count": null,
   "metadata": {},
   "outputs": [],
   "source": [
    "'''\n",
    "# Dicionário de dados de ALUNO\n",
    "Cor/Raça do Aluno\n",
    "A) Branca: DM_ALUNO.TP_COR_RACA = 1\n",
    "B) Preta: DM_ALUNO.TP_COR_RACA = 2\n",
    "C) Parda: DM_ALUNO.TP_COR_RACA = 3\n",
    "D) Amarela: DM_ALUNO.TP_COR_RACA = 4\n",
    "E) Indígena: DM_ALUNO.TP_COR_RACA = 5\n",
    "F) Não dispõe da informação: DM_ALUNO.TP_COR_RACA = 9\n",
    "G) Aluno não quis declarar cor/raça: DM_ALUNO.TP_COR_RACA = 0\n",
    "\n",
    "Sexo do Aluno\n",
    "A) Feminino: DM_ALUNO.TP_SEXO = 1\n",
    "B) Masculino: DM_ALUNO.TP_SEXO = 2\n",
    "\n",
    "Grau Acadêmico do Curso (apenas para cursos de\n",
    "Graduação)\n",
    "A) Bacharelado: DM_ALUNO.TP_GRAU_ACADEMICO = 1\n",
    "B) Licenciatura: DM_ALUNO.TP_GRAU_ACADEMICO = 2\n",
    "C) Tecnológico: DM_ALUNO.TP_GRAU_ACADEMICO = 3\n",
    "D) Não Aplicável: DM_ALUNO.TP_GRAU_ACADEMICO = .\n",
    "\n",
    "Organização Acadêmica\n",
    "A) Universidade: DM_ALUNO.TP_ORGANIZACAO_ACADEMICA = 1\n",
    "B) Centro Universitário: DM_ALUNO.TP_ORGANIZACAO_ACADEMICA = 2\n",
    "C) Faculdade: DM_ALUNO.TP_ORGANIZACAO_ACADEMICA = 3\n",
    "D) Instituto Federal: DM_ALUNO.TP_ORGANIZACAO_ACADEMICA IN (4,5)\n",
    "\n",
    "Categoria Administrativa\n",
    "A) Pública Federal: DM_ALUNO.TP_CATEGORIA_ADMINISTRATIVA = 1\n",
    "B) Pública Estadual: DM_ALUNO.TP_CATEGORIA_ADMINISTRATIVA = 2\n",
    "C) Pública Municipal: DM_ALUNO.TP_CATEGORIA_ADMINISTRATIVA = 3\n",
    "D) Privadas: DM_ALUNO.TP_CATEGORIA_ADMINISTRATIVA IN (4,5)\n",
    "E) Especial: DM_ALUNO.TP_CATEGORIA_ADMINISTRATIVA = 7\n",
    "Para a Sinopse, a Categoria Administrativa Especial foi somada com a Municipal.\n",
    "'''"
   ]
  },
  {
   "cell_type": "code",
   "execution_count": 1,
   "metadata": {},
   "outputs": [],
   "source": [
    "import pandas as pd\n",
    "low_memory=False\n",
    "pd.options.display.max_columns = 80\n",
    "pd.options.display.max_rows = 90\n",
    "\n",
    "import numpy as np\n",
    "import matplotlib.pyplot as plt"
   ]
  },
  {
   "cell_type": "code",
   "execution_count": null,
   "metadata": {},
   "outputs": [],
   "source": [
    "df = pd.read_csv('microdados_ed_superior_2018/dados/DM_ALUNO.CSV', delimiter = '|', encoding='iso-8859-1', usecols=[\n",
    "    'TP_COR_RACA',\n",
    "    'TP_SEXO',\n",
    "    'TP_GRAU_ACADEMICO',\n",
    "    'TP_ORGANIZACAO_ACADEMICA',\n",
    "    'TP_CATEGORIA_ADMINISTRATIVA'\n",
    "])"
   ]
  },
  {
   "cell_type": "code",
   "execution_count": 30,
   "metadata": {},
   "outputs": [
    {
     "data": {
      "text/html": [
       "<div>\n",
       "<style scoped>\n",
       "    .dataframe tbody tr th:only-of-type {\n",
       "        vertical-align: middle;\n",
       "    }\n",
       "\n",
       "    .dataframe tbody tr th {\n",
       "        vertical-align: top;\n",
       "    }\n",
       "\n",
       "    .dataframe thead th {\n",
       "        text-align: right;\n",
       "    }\n",
       "</style>\n",
       "<table border=\"1\" class=\"dataframe\">\n",
       "  <thead>\n",
       "    <tr style=\"text-align: right;\">\n",
       "      <th></th>\n",
       "      <th>TP_CATEGORIA_ADMINISTRATIVA</th>\n",
       "      <th>TP_ORGANIZACAO_ACADEMICA</th>\n",
       "      <th>TP_GRAU_ACADEMICO</th>\n",
       "      <th>TP_COR_RACA</th>\n",
       "      <th>TP_SEXO</th>\n",
       "    </tr>\n",
       "  </thead>\n",
       "  <tbody>\n",
       "    <tr>\n",
       "      <td>0</td>\n",
       "      <td>1</td>\n",
       "      <td>1</td>\n",
       "      <td>1.0</td>\n",
       "      <td>2</td>\n",
       "      <td>1</td>\n",
       "    </tr>\n",
       "    <tr>\n",
       "      <td>1</td>\n",
       "      <td>1</td>\n",
       "      <td>1</td>\n",
       "      <td>1.0</td>\n",
       "      <td>3</td>\n",
       "      <td>2</td>\n",
       "    </tr>\n",
       "    <tr>\n",
       "      <td>2</td>\n",
       "      <td>1</td>\n",
       "      <td>1</td>\n",
       "      <td>1.0</td>\n",
       "      <td>3</td>\n",
       "      <td>2</td>\n",
       "    </tr>\n",
       "    <tr>\n",
       "      <td>3</td>\n",
       "      <td>1</td>\n",
       "      <td>1</td>\n",
       "      <td>1.0</td>\n",
       "      <td>2</td>\n",
       "      <td>1</td>\n",
       "    </tr>\n",
       "    <tr>\n",
       "      <td>4</td>\n",
       "      <td>1</td>\n",
       "      <td>1</td>\n",
       "      <td>1.0</td>\n",
       "      <td>3</td>\n",
       "      <td>2</td>\n",
       "    </tr>\n",
       "    <tr>\n",
       "      <td>...</td>\n",
       "      <td>...</td>\n",
       "      <td>...</td>\n",
       "      <td>...</td>\n",
       "      <td>...</td>\n",
       "      <td>...</td>\n",
       "    </tr>\n",
       "    <tr>\n",
       "      <td>12043988</td>\n",
       "      <td>2</td>\n",
       "      <td>3</td>\n",
       "      <td>3.0</td>\n",
       "      <td>3</td>\n",
       "      <td>2</td>\n",
       "    </tr>\n",
       "    <tr>\n",
       "      <td>12043989</td>\n",
       "      <td>2</td>\n",
       "      <td>3</td>\n",
       "      <td>3.0</td>\n",
       "      <td>1</td>\n",
       "      <td>2</td>\n",
       "    </tr>\n",
       "    <tr>\n",
       "      <td>12043990</td>\n",
       "      <td>2</td>\n",
       "      <td>3</td>\n",
       "      <td>3.0</td>\n",
       "      <td>0</td>\n",
       "      <td>1</td>\n",
       "    </tr>\n",
       "    <tr>\n",
       "      <td>12043991</td>\n",
       "      <td>2</td>\n",
       "      <td>3</td>\n",
       "      <td>3.0</td>\n",
       "      <td>3</td>\n",
       "      <td>2</td>\n",
       "    </tr>\n",
       "    <tr>\n",
       "      <td>12043992</td>\n",
       "      <td>2</td>\n",
       "      <td>3</td>\n",
       "      <td>3.0</td>\n",
       "      <td>0</td>\n",
       "      <td>1</td>\n",
       "    </tr>\n",
       "  </tbody>\n",
       "</table>\n",
       "<p>12043993 rows × 5 columns</p>\n",
       "</div>"
      ],
      "text/plain": [
       "          TP_CATEGORIA_ADMINISTRATIVA  TP_ORGANIZACAO_ACADEMICA  \\\n",
       "0                                   1                         1   \n",
       "1                                   1                         1   \n",
       "2                                   1                         1   \n",
       "3                                   1                         1   \n",
       "4                                   1                         1   \n",
       "...                               ...                       ...   \n",
       "12043988                            2                         3   \n",
       "12043989                            2                         3   \n",
       "12043990                            2                         3   \n",
       "12043991                            2                         3   \n",
       "12043992                            2                         3   \n",
       "\n",
       "          TP_GRAU_ACADEMICO  TP_COR_RACA  TP_SEXO  \n",
       "0                       1.0            2        1  \n",
       "1                       1.0            3        2  \n",
       "2                       1.0            3        2  \n",
       "3                       1.0            2        1  \n",
       "4                       1.0            3        2  \n",
       "...                     ...          ...      ...  \n",
       "12043988                3.0            3        2  \n",
       "12043989                3.0            1        2  \n",
       "12043990                3.0            0        1  \n",
       "12043991                3.0            3        2  \n",
       "12043992                3.0            0        1  \n",
       "\n",
       "[12043993 rows x 5 columns]"
      ]
     },
     "execution_count": 30,
     "metadata": {},
     "output_type": "execute_result"
    }
   ],
   "source": [
    "df"
   ]
  },
  {
   "cell_type": "code",
   "execution_count": 4,
   "metadata": {},
   "outputs": [
    {
     "name": "stdout",
     "output_type": "stream",
     "text": [
      "TP_CATEGORIA_ADMINISTRATIVA    12043993\n",
      "TP_ORGANIZACAO_ACADEMICA       12043993\n",
      "TP_GRAU_ACADEMICO              11978522\n",
      "TP_COR_RACA                    12043993\n",
      "TP_SEXO                        12043993\n",
      "dtype: int64\n"
     ]
    }
   ],
   "source": [
    "print(df.count())  # quantidade de alunos por categoria"
   ]
  },
  {
   "cell_type": "code",
   "execution_count": 64,
   "metadata": {},
   "outputs": [
    {
     "data": {
      "text/plain": [
       "TP_CATEGORIA_ADMINISTRATIVA    4204506\n",
       "TP_ORGANIZACAO_ACADEMICA       4204506\n",
       "TP_GRAU_ACADEMICO              4182494\n",
       "TP_COR_RACA                    4204506\n",
       "TP_SEXO                        4204506\n",
       "dtype: int64"
      ]
     },
     "execution_count": 64,
     "metadata": {},
     "output_type": "execute_result"
    }
   ],
   "source": [
    "df.query('TP_COR_RACA == 2 or TP_COR_RACA == 3').count()"
   ]
  },
  {
   "cell_type": "code",
   "execution_count": 81,
   "metadata": {},
   "outputs": [
    {
     "data": {
      "image/png": "[encoded data removed]",
      "text/plain": [
       "<Figure size 432x288 with 1 Axes>"
      ]
     },
     "metadata": {},
     "output_type": "display_data"
    },
    {
     "name": "stdout",
     "output_type": "stream",
     "text": [
      "1    4924915\n",
      "3    3376642\n",
      "0    2588415\n",
      "2     827864\n",
      "4     197536\n",
      "5      82624\n",
      "9      45997\n",
      "Name: TP_COR_RACA, dtype: int64\n",
      "Quantidade total de alunos: 12043993\n"
     ]
    }
   ],
   "source": [
    "'''\n",
    "Cor/Raça do Aluno\n",
    "A) Branca: DM_ALUNO.TP_COR_RACA = 1\n",
    "B) Preta: DM_ALUNO.TP_COR_RACA = 2\n",
    "C) Parda: DM_ALUNO.TP_COR_RACA = 3\n",
    "D) Amarela: DM_ALUNO.TP_COR_RACA = 4\n",
    "E) Indígena: DM_ALUNO.TP_COR_RACA = 5\n",
    "F) Não dispõe da informação: DM_ALUNO.TP_COR_RACA = 9\n",
    "G) Aluno não quis declarar cor/raça: DM_ALUNO.TP_COR_RACA = 0\n",
    "'''\n",
    "plt.suptitle(\"Quantidade de alunos por raça/cor\")\n",
    "plt.axis('equal')\n",
    "quantidade = plt.pie(df['TP_COR_RACA'].value_counts())\n",
    "plt.show()\n",
    "\n",
    "values_por_cor_raca = df['TP_COR_RACA'].value_counts()\n",
    "print('{}'.format(values_por_cor_raca))"
   ]
  },
  {
   "cell_type": "code",
   "execution_count": 84,
   "metadata": {},
   "outputs": [
    {
     "data": {
      "text/plain": [
       "TP_CATEGORIA_ADMINISTRATIVA    4204506\n",
       "TP_ORGANIZACAO_ACADEMICA       4204506\n",
       "TP_GRAU_ACADEMICO              4182494\n",
       "TP_COR_RACA                    4204506\n",
       "TP_SEXO                        4204506\n",
       "dtype: int64"
      ]
     },
     "execution_count": 84,
     "metadata": {},
     "output_type": "execute_result"
    }
   ],
   "source": [
    "df.query('TP_COR_RACA == 2 or TP_COR_RACA == 3').count()  # raças/cores: pretos ou pardos"
   ]
  },
  {
   "cell_type": "code",
   "execution_count": 96,
   "metadata": {},
   "outputs": [
    {
     "data": {
      "text/plain": [
       "TP_CATEGORIA_ADMINISTRATIVA    7839487\n",
       "TP_ORGANIZACAO_ACADEMICA       7839487\n",
       "TP_GRAU_ACADEMICO              7796028\n",
       "TP_COR_RACA                    7839487\n",
       "TP_SEXO                        7839487\n",
       "dtype: int64"
      ]
     },
     "execution_count": 96,
     "metadata": {},
     "output_type": "execute_result"
    }
   ],
   "source": [
    "df.query('TP_COR_RACA == 1 or TP_COR_RACA == 4 or TP_COR_RACA == 5 or TP_COR_RACA == 9 or TP_COR_RACA == 0').count()  # raças/cores: Branca, Amarela, Indígena e outras categorias"
   ]
  },
  {
   "cell_type": "code",
   "execution_count": 95,
   "metadata": {},
   "outputs": [
    {
     "data": {
      "text/plain": [
       "TP_CATEGORIA_ADMINISTRATIVA    7839487\n",
       "TP_ORGANIZACAO_ACADEMICA       7839487\n",
       "TP_GRAU_ACADEMICO              7796028\n",
       "TP_COR_RACA                    7839487\n",
       "TP_SEXO                        7839487\n",
       "dtype: int64"
      ]
     },
     "execution_count": 95,
     "metadata": {},
     "output_type": "execute_result"
    }
   ],
   "source": [
    "df.count() - df.query('TP_COR_RACA == 2 or TP_COR_RACA == 3').count()"
   ]
  },
  {
   "cell_type": "code",
   "execution_count": 102,
   "metadata": {},
   "outputs": [
    {
     "data": {
      "text/plain": [
       "False"
      ]
     },
     "execution_count": 102,
     "metadata": {},
     "output_type": "execute_result"
    }
   ],
   "source": [
    "4 204 506 > 7 839 487"
   ]
  }
 ],
 "metadata": {
  "kernelspec": {
   "display_name": "Python 3",
   "language": "python",
   "name": "python3"
  },
  "language_info": {
   "codemirror_mode": {
    "name": "ipython",
    "version": 3
   },
   "file_extension": ".py",
   "mimetype": "text/x-python",
   "name": "python",
   "nbconvert_exporter": "python",
   "pygments_lexer": "ipython3",
   "version": "3.6.8"
  }
 },
 "nbformat": 4,
 "nbformat_minor": 2
}
